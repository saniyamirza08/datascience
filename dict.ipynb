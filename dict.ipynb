{
 "cells": [
  {
   "cell_type": "code",
   "execution_count": 31,
   "metadata": {},
   "outputs": [
    {
     "data": {
      "text/plain": [
       "60"
      ]
     },
     "execution_count": 31,
     "metadata": {},
     "output_type": "execute_result"
    }
   ],
   "source": [
    "lt=[10,20,[30,40,[50,60],70],80,90]\n",
    "lt[2][2][1]\n"
   ]
  },
  {
   "cell_type": "code",
   "execution_count": 27,
   "metadata": {},
   "outputs": [
    {
     "name": "stdout",
     "output_type": "stream",
     "text": [
      "[50, 60]\n"
     ]
    }
   ],
   "source": [
    "lt=[10,20,[30,40,[50,60],70],80,90]\n",
    "print(lt[2][2])"
   ]
  },
  {
   "cell_type": "code",
   "execution_count": 32,
   "metadata": {},
   "outputs": [
    {
     "data": {
      "text/plain": [
       "10"
      ]
     },
     "execution_count": 32,
     "metadata": {},
     "output_type": "execute_result"
    }
   ],
   "source": [
    "lt=[10,20,[30,40,[50,60],70],80,90]\n",
    "lt[0]"
   ]
  },
  {
   "cell_type": "code",
   "execution_count": 33,
   "metadata": {},
   "outputs": [
    {
     "data": {
      "text/plain": [
       "20"
      ]
     },
     "execution_count": 33,
     "metadata": {},
     "output_type": "execute_result"
    }
   ],
   "source": [
    "lt=[10,20,[30,40,[50,60],70],80,90]\n",
    "lt[1]"
   ]
  },
  {
   "cell_type": "code",
   "execution_count": 34,
   "metadata": {},
   "outputs": [
    {
     "data": {
      "text/plain": [
       "[30, 40, [50, 60], 70]"
      ]
     },
     "execution_count": 34,
     "metadata": {},
     "output_type": "execute_result"
    }
   ],
   "source": [
    "lt=[10,20,[30,40,[50,60],70],80,90]\n",
    "lt[2]"
   ]
  },
  {
   "cell_type": "code",
   "execution_count": 35,
   "metadata": {},
   "outputs": [
    {
     "data": {
      "text/plain": [
       "80"
      ]
     },
     "execution_count": 35,
     "metadata": {},
     "output_type": "execute_result"
    }
   ],
   "source": [
    "lt=[10,20,[30,40,[50,60],70],80,90]\n",
    "lt[3]"
   ]
  },
  {
   "cell_type": "code",
   "execution_count": 36,
   "metadata": {},
   "outputs": [
    {
     "data": {
      "text/plain": [
       "90"
      ]
     },
     "execution_count": 36,
     "metadata": {},
     "output_type": "execute_result"
    }
   ],
   "source": [
    "lt=[10,20,[30,40,[50,60],70],80,90]\n",
    "lt[4]"
   ]
  },
  {
   "cell_type": "code",
   "execution_count": 38,
   "metadata": {},
   "outputs": [
    {
     "data": {
      "text/plain": [
       "30"
      ]
     },
     "execution_count": 38,
     "metadata": {},
     "output_type": "execute_result"
    }
   ],
   "source": [
    "lt=[10,20,[30,40,[50,60],70],80,90]\n",
    "lt[2][0]"
   ]
  },
  {
   "cell_type": "code",
   "execution_count": 39,
   "metadata": {},
   "outputs": [
    {
     "data": {
      "text/plain": [
       "40"
      ]
     },
     "execution_count": 39,
     "metadata": {},
     "output_type": "execute_result"
    }
   ],
   "source": [
    "lt=[10,20,[30,40,[50,60],70],80,90]\n",
    "lt[2][1]"
   ]
  },
  {
   "cell_type": "code",
   "execution_count": 40,
   "metadata": {},
   "outputs": [
    {
     "data": {
      "text/plain": [
       "[50, 60]"
      ]
     },
     "execution_count": 40,
     "metadata": {},
     "output_type": "execute_result"
    }
   ],
   "source": [
    "lt=[10,20,[30,40,[50,60],70],80,90]\n",
    "lt[2][2]"
   ]
  },
  {
   "cell_type": "code",
   "execution_count": 41,
   "metadata": {},
   "outputs": [
    {
     "data": {
      "text/plain": [
       "70"
      ]
     },
     "execution_count": 41,
     "metadata": {},
     "output_type": "execute_result"
    }
   ],
   "source": [
    "lt=[10,20,[30,40,[50,60],70],80,90]\n",
    "lt[2][3]"
   ]
  },
  {
   "cell_type": "code",
   "execution_count": 43,
   "metadata": {},
   "outputs": [
    {
     "data": {
      "text/plain": [
       "60"
      ]
     },
     "execution_count": 43,
     "metadata": {},
     "output_type": "execute_result"
    }
   ],
   "source": [
    "lt=[10,20,[30,40,[50,60],70],80,90]\n",
    "lt[2][2][1]"
   ]
  },
  {
   "cell_type": "code",
   "execution_count": 44,
   "metadata": {},
   "outputs": [
    {
     "data": {
      "text/plain": [
       "50"
      ]
     },
     "execution_count": 44,
     "metadata": {},
     "output_type": "execute_result"
    }
   ],
   "source": [
    "lt=[10,20,[30,40,[50,60],70],80,90]\n",
    "lt[2][2][0]"
   ]
  },
  {
   "cell_type": "code",
   "execution_count": 45,
   "metadata": {},
   "outputs": [
    {
     "data": {
      "text/plain": [
       "70"
      ]
     },
     "execution_count": 45,
     "metadata": {},
     "output_type": "execute_result"
    }
   ],
   "source": [
    "lt=[10,20,[30,40,[50,60],70],80,90]\n",
    "lt[2][3]"
   ]
  },
  {
   "cell_type": "code",
   "execution_count": 47,
   "metadata": {},
   "outputs": [
    {
     "data": {
      "text/plain": [
       "80"
      ]
     },
     "execution_count": 47,
     "metadata": {},
     "output_type": "execute_result"
    }
   ],
   "source": [
    "lt=[10,20,[30,40,[50,60],70],80,90]\n",
    "lt[3]"
   ]
  },
  {
   "cell_type": "code",
   "execution_count": 63,
   "metadata": {},
   "outputs": [
    {
     "name": "stdout",
     "output_type": "stream",
     "text": [
      "{'name': ['saniya', 'fareeda', 'junaidh'], 'age': '21', 'city': 'hyderabad'}\n"
     ]
    }
   ],
   "source": [
    "dt={\n",
    "    'name':['saniya','fareeda','junaidh'],\n",
    "    'age': '21',\n",
    "    'city':'hyderabad'\n",
    "}\n",
    "print(dt)\n"
   ]
  },
  {
   "cell_type": "code",
   "execution_count": 67,
   "metadata": {},
   "outputs": [
    {
     "name": "stdout",
     "output_type": "stream",
     "text": [
      "{'name': {'subname': 'saniya'}, 'age': '21', 'city': 'hyderabad'}\n"
     ]
    }
   ],
   "source": [
    "dt={\n",
    "    'name':{\"subname\":'saniya'},\n",
    "    'age': '21',\n",
    "    'city':'hyderabad'\n",
    "}\n",
    "print(dt)"
   ]
  },
  {
   "cell_type": "code",
   "execution_count": 70,
   "metadata": {},
   "outputs": [
    {
     "name": "stdout",
     "output_type": "stream",
     "text": [
      "{'name': 'saniya', 'age': '21', 'city': 'telangana'}\n"
     ]
    }
   ],
   "source": [
    "dt={\n",
    "    'name':'saniya',\n",
    "    'age': '21',\n",
    "    'city':'hyderabad',\n",
    "    'city':'khammam',\n",
    "    'city':'telangana'\n",
    "\n",
    "}\n",
    "print(dt)"
   ]
  },
  {
   "cell_type": "code",
   "execution_count": 71,
   "metadata": {},
   "outputs": [
    {
     "name": "stdout",
     "output_type": "stream",
     "text": [
      "['saniya', 'fareeda', 'junaidh']\n"
     ]
    }
   ],
   "source": [
    "dt={\n",
    "    'name':['saniya','fareeda','junaidh'],\n",
    "    'age': '21',\n",
    "    'city':'hyderabad'\n",
    "}\n",
    "print(dt['name'])\n"
   ]
  },
  {
   "cell_type": "code",
   "execution_count": 76,
   "metadata": {},
   "outputs": [
    {
     "name": "stdout",
     "output_type": "stream",
     "text": [
      "fareeda\n"
     ]
    }
   ],
   "source": [
    "dt={\n",
    "    'name':['saniya','fareeda','junaidh'],\n",
    "    'age': '21',\n",
    "    'city':'hyderabad'\n",
    "}\n",
    "print(dt['name'][1])"
   ]
  },
  {
   "cell_type": "code",
   "execution_count": 81,
   "metadata": {},
   "outputs": [
    {
     "data": {
      "text/plain": [
       "{'name': ['saniya', 'sulthana', 'junaidh'], 'age': '21', 'city': 'hyderabad'}"
      ]
     },
     "execution_count": 81,
     "metadata": {},
     "output_type": "execute_result"
    }
   ],
   "source": [
    "dt={\n",
    "    'name':['saniya','fareeda','junaidh'],\n",
    "    'age': '21',\n",
    "    'city':'hyderabad'\n",
    "}\n",
    "dt['name'][1]=\"sulthana\"\n",
    "dt"
   ]
  },
  {
   "cell_type": "code",
   "execution_count": 82,
   "metadata": {},
   "outputs": [
    {
     "data": {
      "text/plain": [
       "{'name': ['saniya', 'fareeda', 'junaidh'], 'age': 20, 'city': 'hyderabad'}"
      ]
     },
     "execution_count": 82,
     "metadata": {},
     "output_type": "execute_result"
    }
   ],
   "source": [
    "dt={\n",
    "    'name':['saniya','fareeda','junaidh'],\n",
    "    'age': '21',\n",
    "    'city':'hyderabad'\n",
    "}\n",
    "dt['age']=20\n",
    "dt"
   ]
  },
  {
   "cell_type": "code",
   "execution_count": 84,
   "metadata": {},
   "outputs": [
    {
     "data": {
      "text/plain": [
       "{'name': ['saniya', 'mirza'], 'age': '21', 'city': 'hyderabad'}"
      ]
     },
     "execution_count": 84,
     "metadata": {},
     "output_type": "execute_result"
    }
   ],
   "source": [
    "dt={\n",
    "    'name':['saniya','fareeda','junaidh'],\n",
    "    'age': '21',\n",
    "    'city':'hyderabad'\n",
    "}\n",
    "dt['name']=['saniya','mirza']\n",
    "dt"
   ]
  },
  {
   "cell_type": "code",
   "execution_count": null,
   "metadata": {},
   "outputs": [
    {
     "name": "stdout",
     "output_type": "stream",
     "text": [
      "fareeda\n"
     ]
    }
   ],
   "source": [
    "dt={\n",
    "    'name':['saniya','fareeda','junaidh'],\n",
    "    'age': '21',\n",
    "    'city':'hyderabad'\n",
    "}\n",
    "print(dt['name'][1])"
   ]
  },
  {
   "cell_type": "code",
   "execution_count": 88,
   "metadata": {},
   "outputs": [
    {
     "name": "stdout",
     "output_type": "stream",
     "text": [
      "{'name': 'saniya', 'age': 21, 'city': 'hyderabad'}\n"
     ]
    }
   ],
   "source": [
    "dt=dict(name=\"saniya\",age=21,city=\"hyderabad\")\n",
    "print(dt)\n"
   ]
  },
  {
   "cell_type": "code",
   "execution_count": 89,
   "metadata": {},
   "outputs": [
    {
     "name": "stdout",
     "output_type": "stream",
     "text": [
      "<class 'dict'>\n"
     ]
    }
   ],
   "source": [
    "dt=dict(name=\"saniya\",age=21,city=\"hyderabad\")\n",
    "print(type(dt))"
   ]
  },
  {
   "cell_type": "code",
   "execution_count": 90,
   "metadata": {},
   "outputs": [
    {
     "data": {
      "text/plain": [
       "'21'"
      ]
     },
     "execution_count": 90,
     "metadata": {},
     "output_type": "execute_result"
    }
   ],
   "source": [
    "dt={\n",
    "    'name':['saniya','fareeda','junaidh'],\n",
    "    'age': '21',\n",
    "    'city':'hyderabad'\n",
    "}\n",
    "dt.get(\"age\")"
   ]
  },
  {
   "cell_type": "code",
   "execution_count": 94,
   "metadata": {},
   "outputs": [
    {
     "data": {
      "text/plain": [
       "dict_items([('name', ['saniya', 'fareeda', 'junaidh']), ('age', '21'), ('city', 'hyderabad')])"
      ]
     },
     "execution_count": 94,
     "metadata": {},
     "output_type": "execute_result"
    }
   ],
   "source": [
    "dt={\n",
    "    'name':['saniya','fareeda','junaidh'],\n",
    "    'age': '21',\n",
    "    'city':'hyderabad'\n",
    "}\n",
    "dt.items()"
   ]
  },
  {
   "cell_type": "code",
   "execution_count": 95,
   "metadata": {},
   "outputs": [
    {
     "data": {
      "text/plain": [
       "dict_keys(['name', 'age', 'city'])"
      ]
     },
     "execution_count": 95,
     "metadata": {},
     "output_type": "execute_result"
    }
   ],
   "source": [
    "dt={\n",
    "    'name':['saniya','fareeda','junaidh'],\n",
    "    'age': '21',\n",
    "    'city':'hyderabad'\n",
    "}\n",
    "dt.keys()\n"
   ]
  },
  {
   "cell_type": "code",
   "execution_count": 96,
   "metadata": {},
   "outputs": [
    {
     "data": {
      "text/plain": [
       "dict_values([['saniya', 'fareeda', 'junaidh'], '21', 'hyderabad'])"
      ]
     },
     "execution_count": 96,
     "metadata": {},
     "output_type": "execute_result"
    }
   ],
   "source": [
    "dt={\n",
    "    'name':['saniya','fareeda','junaidh'],\n",
    "    'age': '21',\n",
    "    'city':'hyderabad'\n",
    "}\n",
    "dt.values()"
   ]
  },
  {
   "cell_type": "code",
   "execution_count": 99,
   "metadata": {},
   "outputs": [
    {
     "data": {
      "text/plain": [
       "2"
      ]
     },
     "execution_count": 99,
     "metadata": {},
     "output_type": "execute_result"
    }
   ],
   "source": [
    "dt={\n",
    "    'name':['saniya','fareeda','junaidh'],\n",
    "    'age': '21',\n",
    "    'city':'hyderabad',\n",
    "    'class':2\n",
    "}\n",
    "dt.pop(\"class\")"
   ]
  },
  {
   "cell_type": "code",
   "execution_count": 101,
   "metadata": {},
   "outputs": [
    {
     "data": {
      "text/plain": [
       "('city', 'hyderabad')"
      ]
     },
     "execution_count": 101,
     "metadata": {},
     "output_type": "execute_result"
    }
   ],
   "source": [
    " dt={\n",
    "    'name':['saniya','fareeda','junaidh'],\n",
    "    'age': '21',\n",
    "    'city':'hyderabad'\n",
    "}\n",
    "dt.popitem()"
   ]
  },
  {
   "cell_type": "code",
   "execution_count": 102,
   "metadata": {},
   "outputs": [
    {
     "data": {
      "text/plain": [
       "{'name': ['saniya', 'fareeda', 'junaidh'],\n",
       " 'age': '21',\n",
       " 'city': 'hyderabad',\n",
       " 'colour': 'blue'}"
      ]
     },
     "execution_count": 102,
     "metadata": {},
     "output_type": "execute_result"
    }
   ],
   "source": [
    "dt={\n",
    "    'name':['saniya','fareeda','junaidh'],\n",
    "    'age': '21',\n",
    "    'city':'hyderabad'\n",
    "}\n",
    "dt.update({'colour':\"blue\"})\n",
    "dt"
   ]
  },
  {
   "cell_type": "code",
   "execution_count": 114,
   "metadata": {},
   "outputs": [
    {
     "data": {
      "text/plain": [
       "{'name': ['saniya', 'fareeda', 'junaidh'], 'age': 18, 'city': 'hyderabad'}"
      ]
     },
     "execution_count": 114,
     "metadata": {},
     "output_type": "execute_result"
    }
   ],
   "source": [
    "dt={\n",
    "    'name':['saniya','fareeda','junaidh'],\n",
    "    'age': '21',\n",
    "    'city':'hyderabad'\n",
    "}\n",
    "dt.update({\"age\":18})\n",
    "dt"
   ]
  },
  {
   "cell_type": "code",
   "execution_count": 105,
   "metadata": {},
   "outputs": [
    {
     "data": {
      "text/plain": [
       "{'name': ['saniya', 'fareeda', 'junaidh'],\n",
       " 'age': '21',\n",
       " 'city': 'hyderabad',\n",
       " 'colour': 'red'}"
      ]
     },
     "execution_count": 105,
     "metadata": {},
     "output_type": "execute_result"
    }
   ],
   "source": [
    "dt={\n",
    "    'name':['saniya','fareeda','junaidh'],\n",
    "    'age': '21',\n",
    "    'city':'hyderabad'\n",
    "}\n",
    "dt.setdefault(\"colour\",\"red\")\n",
    "dt"
   ]
  },
  {
   "cell_type": "code",
   "execution_count": 110,
   "metadata": {},
   "outputs": [
    {
     "data": {
      "text/plain": [
       "{'name': ['saniya', 'fareeda', 'junaidh'],\n",
       " 'age': '21',\n",
       " 'city': 'hyderabad',\n",
       " 'colour': None}"
      ]
     },
     "execution_count": 110,
     "metadata": {},
     "output_type": "execute_result"
    }
   ],
   "source": [
    "dt={\n",
    "    'name':['saniya','fareeda','junaidh'],\n",
    "    'age': '21',\n",
    "    'city':'hyderabad'\n",
    "}\n",
    "dt.setdefault(\"colour\")\n",
    "dt"
   ]
  },
  {
   "cell_type": "code",
   "execution_count": 112,
   "metadata": {},
   "outputs": [
    {
     "data": {
      "text/plain": [
       "{'name': ['saniya', 'fareeda', 'junaidh'],\n",
       " 'age': '21',\n",
       " 'city': 'hyderabad',\n",
       " 'city,22': None}"
      ]
     },
     "execution_count": 112,
     "metadata": {},
     "output_type": "execute_result"
    }
   ],
   "source": [
    "dt={\n",
    "    'name':['saniya','fareeda','junaidh'],\n",
    "    'age': '21',\n",
    "    'city':'hyderabad'\n",
    "}\n",
    "dt.setdefault(\"city,22\")\n",
    "dt"
   ]
  },
  {
   "cell_type": "code",
   "execution_count": null,
   "metadata": {},
   "outputs": [],
   "source": []
  }
 ],
 "metadata": {
  "kernelspec": {
   "display_name": "Python 3",
   "language": "python",
   "name": "python3"
  },
  "language_info": {
   "codemirror_mode": {
    "name": "ipython",
    "version": 3
   },
   "file_extension": ".py",
   "mimetype": "text/x-python",
   "name": "python",
   "nbconvert_exporter": "python",
   "pygments_lexer": "ipython3",
   "version": "3.12.4"
  }
 },
 "nbformat": 4,
 "nbformat_minor": 2
}
