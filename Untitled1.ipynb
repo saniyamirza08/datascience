{
 "cells": [
  {
   "cell_type": "code",
   "execution_count": 9,
   "id": "6ca70243-7bdd-438d-80f6-c401a8d51d57",
   "metadata": {},
   "outputs": [
    {
     "ename": "SyntaxError",
     "evalue": "invalid syntax (3708488584.py, line 9)",
     "output_type": "error",
     "traceback": [
      "\u001b[1;36m  Cell \u001b[1;32mIn[9], line 9\u001b[1;36m\u001b[0m\n\u001b[1;33m    from scipy.stats.statsimportpearsonr\u001b[0m\n\u001b[1;37m                                        ^\u001b[0m\n\u001b[1;31mSyntaxError\u001b[0m\u001b[1;31m:\u001b[0m invalid syntax\n"
     ]
    }
   ],
   "source": [
    "from numpy import operator\n",
    "from os import listdir \n",
    "import matplotlib\n",
    "import matplotlib.pyplot as plt\n",
    "import pandas as pd\n",
    "import numpy as np\n",
    "import numpy.linalg as np\n",
    "import numpy.linalg as np\n",
    "from scipy.stats.statsimportpearsonr"
   ]
  },
  {
   "cell_type": "raw",
   "id": "1da3843b-18dc-42e9-b2d6-156799fcb88a",
   "metadata": {},
   "source": []
  },
  {
   "cell_type": "code",
   "execution_count": 10,
   "id": "b3864b3a-4e34-4195-9c5e-6c6a35fea77b",
   "metadata": {},
   "outputs": [],
   "source": [
    "from math import ceil\n",
    "import numpy as np\n",
    "from scipy import linalg\n"
   ]
  },
  {
   "cell_type": "code",
   "execution_count": 21,
   "id": "eac96f6f-823f-4c0e-9eeb-de0cd4c25968",
   "metadata": {},
   "outputs": [],
   "source": [
    "def lowess(x,y,f,iterations):\n",
    "    n=len(x)\n",
    "    r=int(ceil(f*n))\n",
    "    h=[np.sort(np.abs(x-x[i]))[r] for i in range(n)]\n",
    "    w=np.clip(np.abs((x[:, None]-x[None,:])/h),0.0,1.0)\n",
    "    w=(1 - w** 3)**3\n",
    "    yest=np.zeros(n)\n",
    "    delta=np.ones(n)\n",
    "    for iteration in range(iterations):\n",
    "        for i in range(n):\n",
    "            weights=delta*w[:,i]\n",
    "            b=np.array([np.sum(weights*y),np.sum(weights*y*x)])\n",
    "            A=np.array([[np.sum(weights),np.sum(weights*x)],[np.sum(weights*x),np.sum(weights*x*x)]])\n",
    "            beta = linalg.solve(A,b)\n",
    "            yest[i] = beta[0]+beta[1]*x[i]\n",
    "            \n",
    "\n",
    "\n",
    "\n",
    "\n",
    "\n",
    "\n",
    "\n",
    "\n",
    "\n",
    "\n",
    "    "
   ]
  },
  {
   "cell_type": "code",
   "execution_count": 22,
   "id": "c9ba9631-22c2-4572-9fc8-766e79c85c03",
   "metadata": {},
   "outputs": [
    {
     "ename": "NameError",
     "evalue": "name 'y' is not defined",
     "output_type": "error",
     "traceback": [
      "\u001b[1;31m---------------------------------------------------------------------------\u001b[0m",
      "\u001b[1;31mNameError\u001b[0m                                 Traceback (most recent call last)",
      "Cell \u001b[1;32mIn[22], line 1\u001b[0m\n\u001b[1;32m----> 1\u001b[0m residuals \u001b[38;5;241m=\u001b[39m y\u001b[38;5;241m-\u001b[39myest\n\u001b[0;32m      2\u001b[0m s \u001b[38;5;241m=\u001b[39m np\u001b[38;5;241m.\u001b[39mmedian(np\u001b[38;5;241m.\u001b[39mabs(residuals))\n\u001b[0;32m      3\u001b[0m delta \u001b[38;5;241m=\u001b[39m np\u001b[38;5;241m.\u001b[39mclip(residuals\u001b[38;5;241m/\u001b[39m(\u001b[38;5;241m6.0\u001b[39m\u001b[38;5;241m*\u001b[39ms),\u001b[38;5;241m-\u001b[39m\u001b[38;5;241m1\u001b[39m,\u001b[38;5;241m1\u001b[39m)\n",
      "\u001b[1;31mNameError\u001b[0m: name 'y' is not defined"
     ]
    }
   ],
   "source": [
    "residuals = y-yest\n",
    "s = np.median(np.abs(residuals))\n",
    "delta = np.clip(residuals/(6.0*s),-1,1)\n",
    "delta = (1-delta**2)**2\n",
    "return yest"
   ]
  },
  {
   "cell_type": "code",
   "execution_count": null,
   "id": "e39c558e-6144-44e5-8fec-67bb40c17de3",
   "metadata": {},
   "outputs": [],
   "source": []
  }
 ],
 "metadata": {
  "kernelspec": {
   "display_name": "Python 3 (ipykernel)",
   "language": "python",
   "name": "python3"
  },
  "language_info": {
   "codemirror_mode": {
    "name": "ipython",
    "version": 3
   },
   "file_extension": ".py",
   "mimetype": "text/x-python",
   "name": "python",
   "nbconvert_exporter": "python",
   "pygments_lexer": "ipython3",
   "version": "3.12.4"
  }
 },
 "nbformat": 4,
 "nbformat_minor": 5
}
